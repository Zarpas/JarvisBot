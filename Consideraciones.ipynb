{
 "cells": [
  {
   "cell_type": "markdown",
   "metadata": {},
   "source": [
    "## PySS19\n",
    "\n",
    "* LLevar un prototipo para que la gente pueda probar el software.\n",
    "    - Una raspberry pi con el prototipo para que los asistentes lo prueben."
   ]
  },
  {
   "cell_type": "markdown",
   "metadata": {},
   "source": [
    "### Telegram bot\n",
    "\n",
    "Cuestiones a tener en cuenta para Jarvis:\n",
    "\n",
    "* Echar un vistazo a la [gestion](https://github.com/python-telegram-bot/python-telegram-bot/blob/master/telegram/user.py) de idiomas del usuario para que JarvisBot responda adecuadamente.\n",
    "    * Telegram pasa, en la información de usuario, una etiqueta [IETF](https://tools.ietf.org/html/rfc5646) con el idioma del mismo."
   ]
  },
  {
   "cell_type": "markdown",
   "metadata": {},
   "source": [
    "### Django\n",
    "\n",
    "Cuestiones a tener en cuenta para Jarvis:\n",
    "\n",
    "* Gestionar la base de datos con el [ORM](https://tutorial.djangogirls.org/es/django_orm/) de Django."
   ]
  },
  {
   "cell_type": "markdown",
   "metadata": {},
   "source": [
    "### MQTT\n",
    "\n",
    "Cuestiones a tener en cuenta para MQTT:\n",
    "\n",
    "* Utilizar los modelos de Django con su ORM para guardar y recuperar los datos de la BBDD.\n",
    "* Estudiar el uso de CRON para lanzar mensajes al Broker MQTT y asi separar tareas o estudias los [Thread](https://www.tutorialspoint.com/python3/python_multithreading.htm) de [python](https://docs.python.org/3/library/threading.html)."
   ]
  },
  {
   "cell_type": "markdown",
   "metadata": {},
   "source": [
    "## Presentación:\n",
    "\n",
    "Cuestiones a tener en cuenta para las presentaciones:\n",
    "\n",
    "* Estudiar mejor que opción elegir para hacer las presentaciones, tecnologia o web u otras."
   ]
  },
  {
   "cell_type": "code",
   "execution_count": null,
   "metadata": {},
   "outputs": [],
   "source": []
  }
 ],
 "metadata": {
  "kernelspec": {
   "display_name": "Python [conda env:Anaconda3]",
   "language": "python",
   "name": "conda-env-Anaconda3-py"
  }
 },
 "nbformat": 4,
 "nbformat_minor": 2
}
